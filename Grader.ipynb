{
  "nbformat": 4,
  "nbformat_minor": 0,
  "metadata": {
    "colab": {
      "name": "Grader.ipynb",
      "provenance": [],
      "collapsed_sections": [],
      "authorship_tag": "ABX9TyMzkj9wLLz4w0aVjF1+GMg9",
      "include_colab_link": true
    },
    "kernelspec": {
      "name": "python3",
      "display_name": "Python 3"
    },
    "language_info": {
      "name": "python"
    }
  },
  "cells": [
    {
      "cell_type": "markdown",
      "metadata": {
        "id": "view-in-github",
        "colab_type": "text"
      },
      "source": [
        "<a href=\"https://colab.research.google.com/github/dotinspiredby/Anti-Parallelism-/blob/main/Grader.ipynb\" target=\"_parent\"><img src=\"https://colab.research.google.com/assets/colab-badge.svg\" alt=\"Open In Colab\"/></a>"
      ]
    },
    {
      "cell_type": "code",
      "metadata": {
        "colab": {
          "base_uri": "https://localhost:8080/"
        },
        "id": "04ZTpVESuLph",
        "outputId": "46ab829f-dbaa-488f-aef6-eea36cbe1aaa"
      },
      "source": [
        "!pip install --upgrade music21"
      ],
      "execution_count": 1,
      "outputs": [
        {
          "output_type": "stream",
          "text": [
            "Requirement already satisfied: music21 in /usr/local/lib/python3.7/dist-packages (5.5.0)\n",
            "Collecting music21\n",
            "  Downloading music21-6.7.1.tar.gz (19.2 MB)\n",
            "\u001b[K     |████████████████████████████████| 19.2 MB 1.3 MB/s \n",
            "\u001b[?25hRequirement already satisfied: chardet in /usr/local/lib/python3.7/dist-packages (from music21) (3.0.4)\n",
            "Requirement already satisfied: joblib in /usr/local/lib/python3.7/dist-packages (from music21) (1.0.1)\n",
            "Requirement already satisfied: more-itertools in /usr/local/lib/python3.7/dist-packages (from music21) (8.8.0)\n",
            "Collecting webcolors\n",
            "  Downloading webcolors-1.11.1-py3-none-any.whl (9.9 kB)\n",
            "Building wheels for collected packages: music21\n",
            "  Building wheel for music21 (setup.py) ... \u001b[?25l\u001b[?25hdone\n",
            "  Created wheel for music21: filename=music21-6.7.1-py3-none-any.whl size=21941718 sha256=6dd99a0f8c52086be3a3fca2b4a5b62f7a349108b6e7b4f84c84c9f5ecf43c1d\n",
            "  Stored in directory: /root/.cache/pip/wheels/72/44/61/90e4e65262ca1b4d9f707527b540729ce3f64e00fc6b38d54c\n",
            "Successfully built music21\n",
            "Installing collected packages: webcolors, music21\n",
            "  Attempting uninstall: music21\n",
            "    Found existing installation: music21 5.5.0\n",
            "    Uninstalling music21-5.5.0:\n",
            "      Successfully uninstalled music21-5.5.0\n",
            "Successfully installed music21-6.7.1 webcolors-1.11.1\n"
          ],
          "name": "stdout"
        }
      ]
    },
    {
      "cell_type": "code",
      "metadata": {
        "colab": {
          "base_uri": "https://localhost:8080/"
        },
        "id": "WmHZtcuVuk0X",
        "outputId": "4589cda4-3763-4dab-eb28-00808c62197e"
      },
      "source": [
        "!add-apt-repository ppa:mscore-ubuntu/mscore-stable -y\n",
        "!apt-get update\n",
        "!apt-get install musescore"
      ],
      "execution_count": 2,
      "outputs": [
        {
          "output_type": "stream",
          "text": [
            "\r0% [Working]\r            \rIgn:1 https://developer.download.nvidia.com/compute/cuda/repos/ubuntu1804/x86_64  InRelease\n",
            "\r0% [Connecting to archive.ubuntu.com (91.189.88.152)] [Connecting to security.u\r                                                                               \rIgn:2 https://developer.download.nvidia.com/compute/machine-learning/repos/ubuntu1804/x86_64  InRelease\n",
            "\r0% [Connecting to archive.ubuntu.com (91.189.88.152)] [Connecting to security.u\r                                                                               \rGet:3 http://ppa.launchpad.net/c2d4u.team/c2d4u4.0+/ubuntu bionic InRelease [15.9 kB]\n",
            "Get:4 https://developer.download.nvidia.com/compute/cuda/repos/ubuntu1804/x86_64  Release [697 B]\n",
            "Get:5 https://cloud.r-project.org/bin/linux/ubuntu bionic-cran40/ InRelease [3,626 B]\n",
            "Hit:6 https://developer.download.nvidia.com/compute/machine-learning/repos/ubuntu1804/x86_64  Release\n",
            "Get:7 https://developer.download.nvidia.com/compute/cuda/repos/ubuntu1804/x86_64  Release.gpg [836 B]\n",
            "Hit:8 http://archive.ubuntu.com/ubuntu bionic InRelease\n",
            "Get:9 http://security.ubuntu.com/ubuntu bionic-security InRelease [88.7 kB]\n",
            "Get:10 http://archive.ubuntu.com/ubuntu bionic-updates InRelease [88.7 kB]\n",
            "Hit:11 http://ppa.launchpad.net/cran/libgit2/ubuntu bionic InRelease\n",
            "Hit:12 http://ppa.launchpad.net/deadsnakes/ppa/ubuntu bionic InRelease\n",
            "Get:13 http://archive.ubuntu.com/ubuntu bionic-backports InRelease [74.6 kB]\n",
            "Get:15 http://ppa.launchpad.net/graphics-drivers/ppa/ubuntu bionic InRelease [21.3 kB]\n",
            "Ign:16 https://developer.download.nvidia.com/compute/cuda/repos/ubuntu1804/x86_64  Packages\n",
            "Get:16 https://developer.download.nvidia.com/compute/cuda/repos/ubuntu1804/x86_64  Packages [679 kB]\n",
            "Get:17 http://ppa.launchpad.net/mscore-ubuntu/mscore-stable/ubuntu bionic InRelease [15.4 kB]\n",
            "Get:18 http://ppa.launchpad.net/c2d4u.team/c2d4u4.0+/ubuntu bionic/main Sources [1,785 kB]\n",
            "Get:19 http://security.ubuntu.com/ubuntu bionic-security/multiverse amd64 Packages [26.7 kB]\n",
            "Get:20 http://security.ubuntu.com/ubuntu bionic-security/main amd64 Packages [2,257 kB]\n",
            "Get:21 http://security.ubuntu.com/ubuntu bionic-security/restricted amd64 Packages [505 kB]\n",
            "Get:22 http://security.ubuntu.com/ubuntu bionic-security/universe amd64 Packages [1,420 kB]\n",
            "Get:23 http://ppa.launchpad.net/c2d4u.team/c2d4u4.0+/ubuntu bionic/main amd64 Packages [913 kB]\n",
            "Get:24 http://archive.ubuntu.com/ubuntu bionic-updates/universe amd64 Packages [2,194 kB]\n",
            "Get:25 http://archive.ubuntu.com/ubuntu bionic-updates/restricted amd64 Packages [537 kB]\n",
            "Get:26 http://archive.ubuntu.com/ubuntu bionic-updates/main amd64 Packages [2,693 kB]\n",
            "Get:27 http://archive.ubuntu.com/ubuntu bionic-updates/multiverse amd64 Packages [33.6 kB]\n",
            "Get:28 http://ppa.launchpad.net/graphics-drivers/ppa/ubuntu bionic/main amd64 Packages [44.1 kB]\n",
            "Get:29 http://ppa.launchpad.net/mscore-ubuntu/mscore-stable/ubuntu bionic/main amd64 Packages [1,826 B]\n",
            "Fetched 13.4 MB in 4s (3,383 kB/s)\n",
            "Reading package lists... Done\n",
            "Hit:1 http://security.ubuntu.com/ubuntu bionic-security InRelease\n",
            "Ign:2 https://developer.download.nvidia.com/compute/cuda/repos/ubuntu1804/x86_64  InRelease\n",
            "Hit:3 https://cloud.r-project.org/bin/linux/ubuntu bionic-cran40/ InRelease\n",
            "Hit:4 http://ppa.launchpad.net/c2d4u.team/c2d4u4.0+/ubuntu bionic InRelease\n",
            "Hit:5 http://archive.ubuntu.com/ubuntu bionic InRelease\n",
            "Ign:6 https://developer.download.nvidia.com/compute/machine-learning/repos/ubuntu1804/x86_64  InRelease\n",
            "Hit:7 https://developer.download.nvidia.com/compute/cuda/repos/ubuntu1804/x86_64  Release\n",
            "Hit:8 https://developer.download.nvidia.com/compute/machine-learning/repos/ubuntu1804/x86_64  Release\n",
            "Hit:9 http://archive.ubuntu.com/ubuntu bionic-updates InRelease\n",
            "Hit:10 http://ppa.launchpad.net/cran/libgit2/ubuntu bionic InRelease\n",
            "Hit:11 http://archive.ubuntu.com/ubuntu bionic-backports InRelease\n",
            "Hit:12 http://ppa.launchpad.net/deadsnakes/ppa/ubuntu bionic InRelease\n",
            "Hit:13 http://ppa.launchpad.net/graphics-drivers/ppa/ubuntu bionic InRelease\n",
            "Hit:14 http://ppa.launchpad.net/mscore-ubuntu/mscore-stable/ubuntu bionic InRelease\n",
            "Reading package lists... Done\n",
            "Reading package lists... Done\n",
            "Building dependency tree       \n",
            "Reading state information... Done\n",
            "The following additional packages will be installed:\n",
            "  desktop-file-utils fonts-freefont-ttf libgl1-mesa-glx libportaudio2\n",
            "  libportmidi0 libqt5help5 libqt5qml5 libqt5quick5 libqt5svg5\n",
            "  libqt5xmlpatterns5 musescore-common musescore-general-soundfont-small\n",
            "  qml-module-qtgraphicaleffects qml-module-qtquick-controls\n",
            "  qml-module-qtquick-dialogs qml-module-qtquick-layouts\n",
            "  qml-module-qtquick-privatewidgets qml-module-qtquick-window2\n",
            "  qml-module-qtquick2\n",
            "Suggested packages:\n",
            "  qt5-qmltooling-plugins pulseaudio-utils\n",
            "The following NEW packages will be installed:\n",
            "  desktop-file-utils fonts-freefont-ttf libgl1-mesa-glx libportaudio2\n",
            "  libportmidi0 libqt5help5 libqt5qml5 libqt5quick5 libqt5svg5\n",
            "  libqt5xmlpatterns5 musescore musescore-common\n",
            "  musescore-general-soundfont-small qml-module-qtgraphicaleffects\n",
            "  qml-module-qtquick-controls qml-module-qtquick-dialogs\n",
            "  qml-module-qtquick-layouts qml-module-qtquick-privatewidgets\n",
            "  qml-module-qtquick-window2 qml-module-qtquick2\n",
            "0 upgraded, 20 newly installed, 0 to remove and 86 not upgraded.\n",
            "Need to get 51.8 MB of archives.\n",
            "After this operation, 116 MB of additional disk space will be used.\n",
            "Get:1 http://archive.ubuntu.com/ubuntu bionic/main amd64 libqt5svg5 amd64 5.9.5-0ubuntu1 [128 kB]\n",
            "Get:2 http://ppa.launchpad.net/mscore-ubuntu/mscore-stable/ubuntu bionic/main amd64 musescore-general-soundfont-small all 0.2-2~ppa [34.1 MB]\n",
            "Get:3 http://archive.ubuntu.com/ubuntu bionic-updates/universe amd64 libqt5qml5 amd64 5.9.5-0ubuntu1.1 [1,242 kB]\n",
            "Get:4 http://archive.ubuntu.com/ubuntu bionic-updates/universe amd64 libqt5quick5 amd64 5.9.5-0ubuntu1.1 [1,201 kB]\n",
            "Get:5 http://archive.ubuntu.com/ubuntu bionic-updates/universe amd64 qml-module-qtquick-window2 amd64 5.9.5-0ubuntu1.1 [18.1 kB]\n",
            "Get:6 http://archive.ubuntu.com/ubuntu bionic-updates/universe amd64 qml-module-qtquick2 amd64 5.9.5-0ubuntu1.1 [31.4 kB]\n",
            "Get:7 http://archive.ubuntu.com/ubuntu bionic/universe amd64 qml-module-qtgraphicaleffects amd64 5.9.5-0ubuntu1 [96.1 kB]\n",
            "Get:8 http://archive.ubuntu.com/ubuntu bionic-updates/universe amd64 qml-module-qtquick-layouts amd64 5.9.5-0ubuntu1.1 [44.9 kB]\n",
            "Get:9 http://archive.ubuntu.com/ubuntu bionic/universe amd64 qml-module-qtquick-controls amd64 5.9.5-0ubuntu1 [712 kB]\n",
            "Get:10 http://archive.ubuntu.com/ubuntu bionic-updates/main amd64 desktop-file-utils amd64 0.23-1ubuntu3.18.04.2 [51.4 kB]\n",
            "Get:11 http://archive.ubuntu.com/ubuntu bionic/main amd64 fonts-freefont-ttf all 20120503-7 [4,202 kB]\n",
            "Get:12 http://archive.ubuntu.com/ubuntu bionic-updates/main amd64 libgl1-mesa-glx amd64 20.0.8-0ubuntu1~18.04.1 [5,532 B]\n",
            "Get:13 http://archive.ubuntu.com/ubuntu bionic/universe amd64 libportaudio2 amd64 19.6.0-1 [64.6 kB]\n",
            "Get:14 http://archive.ubuntu.com/ubuntu bionic/universe amd64 libportmidi0 amd64 1:217-6 [17.8 kB]\n",
            "Get:15 http://archive.ubuntu.com/ubuntu bionic/universe amd64 libqt5help5 amd64 5.9.5-0ubuntu1 [133 kB]\n",
            "Get:16 http://archive.ubuntu.com/ubuntu bionic/universe amd64 libqt5xmlpatterns5 amd64 5.9.5-0ubuntu1 [916 kB]\n",
            "Get:17 http://archive.ubuntu.com/ubuntu bionic/universe amd64 qml-module-qtquick-privatewidgets amd64 5.9.5-0ubuntu1 [41.7 kB]\n",
            "Get:18 http://archive.ubuntu.com/ubuntu bionic/universe amd64 qml-module-qtquick-dialogs amd64 5.9.5-0ubuntu1 [122 kB]\n",
            "Get:19 http://ppa.launchpad.net/mscore-ubuntu/mscore-stable/ubuntu bionic/main amd64 musescore-common all 2.3.2+dfsg4-15~ppa1804+1 [3,358 kB]\n",
            "Get:20 http://ppa.launchpad.net/mscore-ubuntu/mscore-stable/ubuntu bionic/main amd64 musescore amd64 2.3.2+dfsg4-15~ppa1804+1 [5,271 kB]\n",
            "Fetched 51.8 MB in 4s (13.7 MB/s)\n",
            "Selecting previously unselected package libqt5svg5:amd64.\n",
            "(Reading database ... 160837 files and directories currently installed.)\n",
            "Preparing to unpack .../00-libqt5svg5_5.9.5-0ubuntu1_amd64.deb ...\n",
            "Unpacking libqt5svg5:amd64 (5.9.5-0ubuntu1) ...\n",
            "Selecting previously unselected package libqt5qml5:amd64.\n",
            "Preparing to unpack .../01-libqt5qml5_5.9.5-0ubuntu1.1_amd64.deb ...\n",
            "Unpacking libqt5qml5:amd64 (5.9.5-0ubuntu1.1) ...\n",
            "Selecting previously unselected package libqt5quick5:amd64.\n",
            "Preparing to unpack .../02-libqt5quick5_5.9.5-0ubuntu1.1_amd64.deb ...\n",
            "Unpacking libqt5quick5:amd64 (5.9.5-0ubuntu1.1) ...\n",
            "Selecting previously unselected package qml-module-qtquick-window2:amd64.\n",
            "Preparing to unpack .../03-qml-module-qtquick-window2_5.9.5-0ubuntu1.1_amd64.deb ...\n",
            "Unpacking qml-module-qtquick-window2:amd64 (5.9.5-0ubuntu1.1) ...\n",
            "Selecting previously unselected package qml-module-qtquick2:amd64.\n",
            "Preparing to unpack .../04-qml-module-qtquick2_5.9.5-0ubuntu1.1_amd64.deb ...\n",
            "Unpacking qml-module-qtquick2:amd64 (5.9.5-0ubuntu1.1) ...\n",
            "Selecting previously unselected package qml-module-qtgraphicaleffects:amd64.\n",
            "Preparing to unpack .../05-qml-module-qtgraphicaleffects_5.9.5-0ubuntu1_amd64.deb ...\n",
            "Unpacking qml-module-qtgraphicaleffects:amd64 (5.9.5-0ubuntu1) ...\n",
            "Selecting previously unselected package qml-module-qtquick-layouts:amd64.\n",
            "Preparing to unpack .../06-qml-module-qtquick-layouts_5.9.5-0ubuntu1.1_amd64.deb ...\n",
            "Unpacking qml-module-qtquick-layouts:amd64 (5.9.5-0ubuntu1.1) ...\n",
            "Selecting previously unselected package qml-module-qtquick-controls:amd64.\n",
            "Preparing to unpack .../07-qml-module-qtquick-controls_5.9.5-0ubuntu1_amd64.deb ...\n",
            "Unpacking qml-module-qtquick-controls:amd64 (5.9.5-0ubuntu1) ...\n",
            "Selecting previously unselected package desktop-file-utils.\n",
            "Preparing to unpack .../08-desktop-file-utils_0.23-1ubuntu3.18.04.2_amd64.deb ...\n",
            "Unpacking desktop-file-utils (0.23-1ubuntu3.18.04.2) ...\n",
            "Selecting previously unselected package fonts-freefont-ttf.\n",
            "Preparing to unpack .../09-fonts-freefont-ttf_20120503-7_all.deb ...\n",
            "Unpacking fonts-freefont-ttf (20120503-7) ...\n",
            "Selecting previously unselected package libgl1-mesa-glx:amd64.\n",
            "Preparing to unpack .../10-libgl1-mesa-glx_20.0.8-0ubuntu1~18.04.1_amd64.deb ...\n",
            "Unpacking libgl1-mesa-glx:amd64 (20.0.8-0ubuntu1~18.04.1) ...\n",
            "Selecting previously unselected package libportaudio2:amd64.\n",
            "Preparing to unpack .../11-libportaudio2_19.6.0-1_amd64.deb ...\n",
            "Unpacking libportaudio2:amd64 (19.6.0-1) ...\n",
            "Selecting previously unselected package libportmidi0:amd64.\n",
            "Preparing to unpack .../12-libportmidi0_1%3a217-6_amd64.deb ...\n",
            "Unpacking libportmidi0:amd64 (1:217-6) ...\n",
            "Selecting previously unselected package libqt5help5:amd64.\n",
            "Preparing to unpack .../13-libqt5help5_5.9.5-0ubuntu1_amd64.deb ...\n",
            "Unpacking libqt5help5:amd64 (5.9.5-0ubuntu1) ...\n",
            "Selecting previously unselected package libqt5xmlpatterns5:amd64.\n",
            "Preparing to unpack .../14-libqt5xmlpatterns5_5.9.5-0ubuntu1_amd64.deb ...\n",
            "Unpacking libqt5xmlpatterns5:amd64 (5.9.5-0ubuntu1) ...\n",
            "Selecting previously unselected package qml-module-qtquick-privatewidgets:amd64.\n",
            "Preparing to unpack .../15-qml-module-qtquick-privatewidgets_5.9.5-0ubuntu1_amd64.deb ...\n",
            "Unpacking qml-module-qtquick-privatewidgets:amd64 (5.9.5-0ubuntu1) ...\n",
            "Selecting previously unselected package qml-module-qtquick-dialogs:amd64.\n",
            "Preparing to unpack .../16-qml-module-qtquick-dialogs_5.9.5-0ubuntu1_amd64.deb ...\n",
            "Unpacking qml-module-qtquick-dialogs:amd64 (5.9.5-0ubuntu1) ...\n",
            "Selecting previously unselected package musescore-general-soundfont-small.\n",
            "Preparing to unpack .../17-musescore-general-soundfont-small_0.2-2~ppa_all.deb ...\n",
            "Unpacking musescore-general-soundfont-small (0.2-2~ppa) ...\n",
            "Selecting previously unselected package musescore-common.\n",
            "Preparing to unpack .../18-musescore-common_2.3.2+dfsg4-15~ppa1804+1_all.deb ...\n",
            "Unpacking musescore-common (2.3.2+dfsg4-15~ppa1804+1) ...\n",
            "Selecting previously unselected package musescore.\n",
            "Preparing to unpack .../19-musescore_2.3.2+dfsg4-15~ppa1804+1_amd64.deb ...\n",
            "Unpacking musescore (2.3.2+dfsg4-15~ppa1804+1) ...\n",
            "Setting up libqt5qml5:amd64 (5.9.5-0ubuntu1.1) ...\n",
            "Setting up libqt5quick5:amd64 (5.9.5-0ubuntu1.1) ...\n",
            "Setting up qml-module-qtquick2:amd64 (5.9.5-0ubuntu1.1) ...\n",
            "Setting up libportaudio2:amd64 (19.6.0-1) ...\n",
            "Setting up desktop-file-utils (0.23-1ubuntu3.18.04.2) ...\n",
            "Setting up qml-module-qtquick-layouts:amd64 (5.9.5-0ubuntu1.1) ...\n",
            "Setting up musescore-general-soundfont-small (0.2-2~ppa) ...\n",
            "update-alternatives: using /usr/share/sounds/sf3/MuseScore_General_Lite.sf3 to provide /usr/share/sounds/sf3/default-GM.sf3 (default-GM.sf3) in auto mode\n",
            "update-alternatives: using /usr/share/sounds/sf3/MuseScore_General_Lite.sf3 to provide /usr/share/sounds/sf3/MuseScore_General.sf3 (MuseScore_General.sf3) in auto mode\n",
            "Setting up libqt5help5:amd64 (5.9.5-0ubuntu1) ...\n",
            "Setting up libqt5xmlpatterns5:amd64 (5.9.5-0ubuntu1) ...\n",
            "Setting up musescore-common (2.3.2+dfsg4-15~ppa1804+1) ...\n",
            "Setting up qml-module-qtquick-privatewidgets:amd64 (5.9.5-0ubuntu1) ...\n",
            "Setting up libgl1-mesa-glx:amd64 (20.0.8-0ubuntu1~18.04.1) ...\n",
            "Setting up libportmidi0:amd64 (1:217-6) ...\n",
            "Setting up libqt5svg5:amd64 (5.9.5-0ubuntu1) ...\n",
            "Setting up qml-module-qtquick-window2:amd64 (5.9.5-0ubuntu1.1) ...\n",
            "Setting up qml-module-qtquick-dialogs:amd64 (5.9.5-0ubuntu1) ...\n",
            "Setting up fonts-freefont-ttf (20120503-7) ...\n",
            "Setting up qml-module-qtgraphicaleffects:amd64 (5.9.5-0ubuntu1) ...\n",
            "Setting up qml-module-qtquick-controls:amd64 (5.9.5-0ubuntu1) ...\n",
            "Setting up musescore (2.3.2+dfsg4-15~ppa1804+1) ...\n",
            "Processing triggers for libc-bin (2.27-3ubuntu1.2) ...\n",
            "/sbin/ldconfig.real: /usr/local/lib/python3.7/dist-packages/ideep4py/lib/libmkldnn.so.0 is not a symbolic link\n",
            "\n",
            "Processing triggers for man-db (2.8.3-2ubuntu0.1) ...\n",
            "Processing triggers for shared-mime-info (1.9-2) ...\n",
            "Processing triggers for hicolor-icon-theme (0.17-2) ...\n",
            "Processing triggers for fontconfig (2.12.6-0ubuntu2) ...\n",
            "Processing triggers for mime-support (3.60ubuntu1) ...\n"
          ],
          "name": "stdout"
        }
      ]
    },
    {
      "cell_type": "code",
      "metadata": {
        "colab": {
          "base_uri": "https://localhost:8080/"
        },
        "id": "bQvjeWkVu5aX",
        "outputId": "6b09a388-61e5-4657-98ed-baf6a54164cd"
      },
      "source": [
        "!apt-get install xvfb"
      ],
      "execution_count": 3,
      "outputs": [
        {
          "output_type": "stream",
          "text": [
            "Reading package lists... Done\n",
            "Building dependency tree       \n",
            "Reading state information... Done\n",
            "The following NEW packages will be installed:\n",
            "  xvfb\n",
            "0 upgraded, 1 newly installed, 0 to remove and 86 not upgraded.\n",
            "Need to get 784 kB of archives.\n",
            "After this operation, 2,270 kB of additional disk space will be used.\n",
            "Get:1 http://archive.ubuntu.com/ubuntu bionic-updates/universe amd64 xvfb amd64 2:1.19.6-1ubuntu4.9 [784 kB]\n",
            "Fetched 784 kB in 1s (1,049 kB/s)\n",
            "Selecting previously unselected package xvfb.\n",
            "(Reading database ... 161803 files and directories currently installed.)\n",
            "Preparing to unpack .../xvfb_2%3a1.19.6-1ubuntu4.9_amd64.deb ...\n",
            "Unpacking xvfb (2:1.19.6-1ubuntu4.9) ...\n",
            "Setting up xvfb (2:1.19.6-1ubuntu4.9) ...\n",
            "Processing triggers for man-db (2.8.3-2ubuntu0.1) ...\n"
          ],
          "name": "stdout"
        }
      ]
    },
    {
      "cell_type": "code",
      "metadata": {
        "colab": {
          "base_uri": "https://localhost:8080/"
        },
        "id": "HcgOkOKdvKU3",
        "outputId": "a8545e3c-a3bc-49dc-ae94-a43ab4d87aca"
      },
      "source": [
        "!sh -e /etc/init.d/x11-common start"
      ],
      "execution_count": 4,
      "outputs": [
        {
          "output_type": "stream",
          "text": [
            " * Setting up X socket directories...\n",
            "   ...done.\n"
          ],
          "name": "stdout"
        }
      ]
    },
    {
      "cell_type": "code",
      "metadata": {
        "id": "wlG-gmuNvNSp"
      },
      "source": [
        "import os\n",
        "os.putenv('DISPLAY', ':99.0')"
      ],
      "execution_count": 5,
      "outputs": []
    },
    {
      "cell_type": "code",
      "metadata": {
        "id": "FUa1SIC0vTFY"
      },
      "source": [
        "!start-stop-daemon --start --pidfile /var/run/xvfb.pid --make-pidfile --background --exec /usr/bin/Xvfb -- :99 -screen 0 1024x768x24 -ac +extension GLX +render -noreset"
      ],
      "execution_count": 6,
      "outputs": []
    },
    {
      "cell_type": "code",
      "metadata": {
        "id": "VW4OcegevZQo"
      },
      "source": [
        "from music21 import environment\n",
        "us = environment.UserSettings()\n",
        "us['musicxmlPath'] = '/usr/bin/mscore'\n",
        "us['musescoreDirectPNGPath'] = '/usr/bin/mscore'\n",
        "us['directoryScratch'] = '/tmp'"
      ],
      "execution_count": 7,
      "outputs": []
    },
    {
      "cell_type": "code",
      "metadata": {
        "colab": {
          "base_uri": "https://localhost:8080/"
        },
        "id": "K0x1GNUMo3eN",
        "outputId": "6a3c205f-15ac-4cc5-991b-d1ca4b4b27e6"
      },
      "source": [
        "from google.colab import drive\n",
        "drive.mount('/content/drive')"
      ],
      "execution_count": 8,
      "outputs": [
        {
          "output_type": "stream",
          "text": [
            "Mounted at /content/drive\n"
          ],
          "name": "stdout"
        }
      ]
    },
    {
      "cell_type": "code",
      "metadata": {
        "colab": {
          "base_uri": "https://localhost:8080/",
          "height": 641
        },
        "id": "L1Bvu7U8o-X1",
        "outputId": "b6bba516-ca46-4cc4-f26e-a996fbc0bdb1"
      },
      "source": [
        "from music21 import converter, stream\n",
        "\n",
        "\n",
        "class Grader:\n",
        "    def __init__(self, link):\n",
        "\n",
        "        self.link = link\n",
        "\n",
        "        self.soprano = None\n",
        "        self.alto = None\n",
        "        self.tenor = None\n",
        "        self.bass = None\n",
        "\n",
        "        self.test_score = self._distribute_voices()\n",
        "\n",
        "    def _distribute_voices(self):\n",
        "        test = converter.parse(self.link)\n",
        "        return test.voicesToParts()\n",
        "\n",
        "    def run(self):\n",
        "        names = self.__output_name()\n",
        "        try:\n",
        "            self.soprano, self.alto, self.tenor, self.bass = self._split_into_parts(names)\n",
        "\n",
        "            self.__get_intervals_and_check(self.alto, self.soprano)\n",
        "            self.__get_intervals_and_check(self.tenor, self.soprano)\n",
        "            self.__get_intervals_and_check(self.bass, self.soprano)\n",
        "            self.__get_intervals_and_check(self.tenor, self.alto)\n",
        "            self.__get_intervals_and_check(self.bass, self.alto)\n",
        "            self.__get_intervals_and_check(self.bass, self.tenor)\n",
        "        except ValueError:\n",
        "            print(\"expected 4 voices in file, got %s\" % len(list(self._split_into_parts(names))))\n",
        "\n",
        "    def __output_name(self):\n",
        "        names = []\n",
        "        instrument_obj = self.test_score.recurse().getElementsByClass(stream.Part)\n",
        "        for n in instrument_obj:\n",
        "            try:\n",
        "                int(n.id[:-3])\n",
        "            except ValueError:\n",
        "                names.append(n.id)\n",
        "        return names\n",
        "\n",
        "    def _split_into_parts(self, ids):\n",
        "        for part_id in ids:\n",
        "            yield self.test_score.parts[part_id]\n",
        "\n",
        "    @staticmethod\n",
        "    def __make_interval_list(voice_a, voice_b, direction, vc_abr, verdct):\n",
        "        interval_list = []\n",
        "        for measure_index in range(len(voice_a.elements)):\n",
        "            measure_intervals = []\n",
        "            voice_a.elements[measure_index].flat.attachIntervalsBetweenStreams(\n",
        "                voice_b.elements[measure_index].flat)\n",
        "            for n in voice_a.elements[measure_index].notes:\n",
        "                if n.editorial.harmonicInterval is None:\n",
        "                    pass\n",
        "                else:\n",
        "\n",
        "                    if direction == \"down\" and \"-\" not in n.editorial.harmonicInterval.directedName:\n",
        "                        if n.editorial.harmonicInterval.directedName != \"P1\":\n",
        "                            verdct.add(\"voice crossing in measure {0}, note position {1} {2} {3}\".format(\n",
        "                                measure_index + 1, n.offset, vc_abr[0].id, vc_abr[1].id))\n",
        "                            #print(\"voice crossing {0} in measure {1}\".format(vc_abr, measure_index + 1))\n",
        "\n",
        "                    elif direction == \"up\" and \"-\" in n.editorial.harmonicInterval.directedName:\n",
        "                        verdct.add(\"voice crossing in measure {0}, note position {1} {2} {3}\".format(\n",
        "                            measure_index + 1, n.offset, vc_abr[0].id, vc_abr[1].id))\n",
        "                        #print(\"voice crossing {0} in measure {1}\".format(vc_abr, measure_index + 1))\n",
        "\n",
        "                    if \"-\" in n.editorial.harmonicInterval.directedName:\n",
        "                        measure_intervals.append(\n",
        "                            (n.editorial.harmonicInterval.directedName.replace(\"-\", \"\"), n.offset))\n",
        "                    else:\n",
        "                        measure_intervals.append((n.editorial.harmonicInterval.directedName, n.offset))\n",
        "            interval_list.append(measure_intervals)\n",
        "        return interval_list\n",
        "\n",
        "    @staticmethod\n",
        "    def __fill(list_a, list_b):\n",
        "        set_superposed = set()\n",
        "        try:\n",
        "            for item in list_a:\n",
        "                set_superposed.add(item)\n",
        "            for item in list_b:\n",
        "                set_superposed.add(item)\n",
        "            to_return = list(set_superposed)\n",
        "            to_return.sort(key=lambda x: x[1])\n",
        "            return to_return\n",
        "        except TypeError:\n",
        "            return []\n",
        "\n",
        "    @staticmethod\n",
        "    def __merge(intervals_input):\n",
        "        itval_line = []\n",
        "        for line in intervals_input:\n",
        "            for interval in line:\n",
        "                itval_line.append(interval)\n",
        "        return itval_line\n",
        "\n",
        "    @staticmethod\n",
        "    def __order_by_offset(part, measure_number, offset):\n",
        "        obj = part.measure(measure_number)\n",
        "        try:\n",
        "            to_find = obj.getElementsByOffset(offset, mustBeginInSpan=False)  # sometimes returns rests\n",
        "            return list(to_find.notes)\n",
        "\n",
        "        except IndexError:\n",
        "            # offset may not exist - the note is longer, rested or out of range\n",
        "            return None\n",
        "\n",
        "    @staticmethod\n",
        "    def _check_equal(n1, n2):\n",
        "        if n1.pitch == n2.pitch:\n",
        "            return False\n",
        "        return True\n",
        "\n",
        "    def check(self, intervals, intervals_offset, vc_abr, step, index_map, info=''):\n",
        "        for i in range(len(intervals) - int(step)):\n",
        "            fifths = ['P5', 'P12', 'P19']\n",
        "            octaves = ['P1', 'P8', 'P15']\n",
        "\n",
        "            type_of_error = \"\"\n",
        "            if intervals[i] in fifths and intervals[i + step] in fifths:  # interval_list in the past\n",
        "                type_of_error = \"fifths\"\n",
        "            elif intervals[i] in octaves and intervals[i + step] in octaves:\n",
        "                type_of_error = \"octaves\"\n",
        "            else:\n",
        "                pass\n",
        "            if type_of_error:\n",
        "                measure_num = 0\n",
        "                for interval_num in index_map:\n",
        "                    if i < interval_num:\n",
        "                        measure_num = index_map.index(interval_num) + 1\n",
        "                        break\n",
        "                measure_num2 = measure_num\n",
        "                if intervals_offset[i + step] <= intervals_offset[i]:\n",
        "                    measure_num2 += 1\n",
        "                try:\n",
        "                    note_u_a = self.__order_by_offset(vc_abr[0], measure_num, intervals_offset[i])[0]\n",
        "                    note_u_b = self.__order_by_offset(vc_abr[0], measure_num2, intervals_offset[i + step])[0]\n",
        "                    note_d_a = self.__order_by_offset(vc_abr[1], measure_num, intervals_offset[i])[0]\n",
        "                    note_d_b = self.__order_by_offset(vc_abr[1], measure_num2, intervals_offset[i + step])[0]\n",
        "                    if self._check_equal(note_u_a, note_u_b) is True and self._check_equal(note_d_a, note_d_b) is True:\n",
        "                        print(\n",
        "                            '%s' % info + 'parallel %s' % type_of_error + ' in measure %s ' % measure_num,\n",
        "                            ' note position %s ' % intervals_offset[i], vc_abr[0].id, vc_abr[1].id)\n",
        "                    else:\n",
        "                        pass  # case of repetitive notes\n",
        "                except IndexError:\n",
        "                    pass  # caught the <note.Rest> instead of pitched note.Note\n",
        "\n",
        "    def __get_intervals_and_check(self, voice_1, voice_2):\n",
        "        verdict = set()\n",
        "        intrvls_up_down = self.__make_interval_list(voice_1, voice_2, \"up\",\n",
        "                                                    [voice_1, voice_2], verdict)\n",
        "        intrvls_down_up = self.__make_interval_list(voice_2, voice_1, \"down\", [voice_1, voice_2], verdict)\n",
        "        if verdict:\n",
        "            print(*verdict, sep='\\n')\n",
        "\n",
        "        interval_list = []\n",
        "        interval_list_offset = []\n",
        "        beats = []\n",
        "        beat_num = 0\n",
        "        for cell in range(len(intrvls_up_down)):  # вписать контекст\n",
        "            measure = []\n",
        "            measure_offset = []\n",
        "            measure_paired = self.__fill(intrvls_down_up[cell], intrvls_up_down[cell])\n",
        "\n",
        "            if measure_paired is not None:\n",
        "                for pair in measure_paired:\n",
        "                    measure.append(pair[0])\n",
        "                    measure_offset.append(pair[1])\n",
        "\n",
        "                beat_num += len(measure)\n",
        "            else:\n",
        "                pass\n",
        "            interval_list.append(measure)\n",
        "            interval_list_offset.append(measure_offset)\n",
        "            beats.append(beat_num)\n",
        "\n",
        "        interval_line = self.__merge(interval_list)\n",
        "        interval_line_offset = self.__merge(interval_list_offset)\n",
        "        self.check(interval_line, interval_line_offset, [voice_1, voice_2], 1, beats)\n",
        "        self.check(interval_line, interval_line_offset, [voice_1, voice_2], 2, beats, 'hidden ')\n",
        "\n",
        "\n",
        "\n",
        "if __name__ == \"__main__\":\n",
        "    file_link = str(input())\n",
        "    path = Grader(file_link)\n",
        "    path.run()\n",
        "    path.test_score.show()"
      ],
      "execution_count": 9,
      "outputs": [
        {
          "output_type": "stream",
          "text": [
            "/content/drive/MyDrive/testx.xml\n",
            "voice crossing in measure 1, note position 1.0 Alto-v0 Soprano-v0\n",
            "voice crossing in measure 1, note position 1.5 Alto-v0 Soprano-v0\n",
            "voice crossing in measure 1, note position 0.0 Alto-v0 Soprano-v0\n",
            "hidden parallel fifths in measure 2   note position 0.0  Alto-v0 Soprano-v0\n",
            "hidden parallel fifths in measure 2   note position 2.0  Tenor-v0 Soprano-v0\n",
            "parallel octaves in measure 1   note position 1.5  Bass-v0 Soprano-v0\n",
            "hidden parallel octaves in measure 1   note position 2.0  Bass-v0 Soprano-v0\n",
            "hidden parallel fifths in measure 2   note position 0.0  Bass-v0 Soprano-v0\n",
            "parallel octaves in measure 2   note position 2.0  Tenor-v0 Alto-v0\n",
            "hidden parallel fifths in measure 1   note position 2.5  Tenor-v0 Alto-v0\n",
            "hidden parallel octaves in measure 4   note position 0.0  Tenor-v0 Alto-v0\n",
            "hidden parallel octaves in measure 1   note position 2.0  Bass-v0 Alto-v0\n",
            "hidden parallel octaves in measure 2   note position 0.0  Bass-v0 Alto-v0\n",
            "hidden parallel fifths in measure 2   note position 1.0  Bass-v0 Alto-v0\n",
            "hidden parallel fifths in measure 3   note position 0.0  Bass-v0 Alto-v0\n",
            "hidden parallel fifths in measure 3   note position 2.0  Bass-v0 Alto-v0\n",
            "parallel fifths in measure 1   note position 0.0  Bass-v0 Tenor-v0\n",
            "parallel octaves in measure 2   note position 1.0  Bass-v0 Tenor-v0\n",
            "parallel fifths in measure 3   note position 0.0  Bass-v0 Tenor-v0\n",
            "parallel octaves in measure 4   note position 1.0  Bass-v0 Tenor-v0\n"
          ],
          "name": "stdout"
        },
        {
          "output_type": "display_data",
          "data": {
            "image/png": "[encoded data removed]",
            "text/plain": [
              "<IPython.core.display.Image object>"
            ]
          },
          "metadata": {
            "tags": [],
            "image/png": {
              "width": 748,
              "height": 266
            }
          }
        }
      ]
    }
  ]
}